{
 "cells": [
  {
   "cell_type": "markdown",
   "id": "2b0b1f88",
   "metadata": {},
   "source": [
    "2.2 파이썬으로 퍼셉트론 학습 알고리즘 구현"
   ]
  },
  {
   "cell_type": "code",
   "execution_count": 4,
   "id": "8a4818ee",
   "metadata": {},
   "outputs": [],
   "source": [
    "import numpy as np"
   ]
  },
  {
   "cell_type": "code",
   "execution_count": 5,
   "id": "09b8d7fc",
   "metadata": {},
   "outputs": [],
   "source": [
    "class Perceptron(object):\n",
    "    \"\"\"\n",
    "    -매개변수-\n",
    "    eta : learning rate (0.0 ~ 1.0)\n",
    "    n_iter : 훈련 데이터셋 반복 횟수 (epoch)\n",
    "    random_state : 가중치 초기화를 위한 무작위 난수 생성기의 seed\n",
    "    \n",
    "    -속성-\n",
    "    w_ : 가중치 (1d-array)\n",
    "    errors_ : epoch마다 누적된 분류 오류 (list)\n",
    "    \n",
    "    \"\"\"\n",
    "    \n",
    "    def __init__(self, eta=0.01, n_iter=50, random_state=1):\n",
    "        self.eta = eta\n",
    "        self.n_iter = n_iter\n",
    "        self.random_state = random_state\n",
    "        \n",
    "    def fit(self, X, y):\n",
    "        \"\"\"\n",
    "        훈련 데이터 학습\n",
    "        \n",
    "        -매개변수-\n",
    "        X : (n_samples, n_features) (2)차원의 훈련 데이터\n",
    "        y : (n_samples) (1)차원의 타깃값\n",
    "        \n",
    "        \"\"\"\n",
    "        \n",
    "        rgen = np.random.RandomState(self.random_state) \n",
    "        # 특정 seed를 가지는 np.random.RandomState() 객체를 만들고, 이 객체를 통해서 난수 생성\n",
    "        self.w_ = rgen.normal(loc=0.0, scale=0.01, size=1 + X.shape[1])\n",
    "        # 가중치 벡터 초기화\n",
    "        # np.random.normal : 정규분포 난수 생성(loc=평균, scale=표준편차, size=개수)\n",
    "    \n",
    "        self.errors_ = []\n",
    "        \n",
    "        for _ in range(self.n_iter):\n",
    "            errors = 0\n",
    "            for xi, target in zip(X, y): # xi는 스칼라가 아니고 벡터\n",
    "                update = self.eta * (target - self.predict(xi))\n",
    "                self.w_[1:] += update * xi \n",
    "                self.w_[0] += update\n",
    "                errors += int(update != 0.0) # update가 0.0이 아니라는 것은 예측이 틀렸다는 것\n",
    "            self.errors_.append(errors) # epoch 한 번 반복할 때 마다 예측이 틀린 횟수를 기록\n",
    "        return self\n",
    "    \n",
    "    def net_input(self, X):\n",
    "        # 입력 계산\n",
    "        return np.dot(X, self.w_[1:]) + self.w_[0] # z = w0x0 + w1x2 + w2x2 ... 를 계산\n",
    "    \n",
    "    def predict(self, X):\n",
    "        #단위 계단 함수를 사용하여 클래스 레이블(예측값)을 반환\n",
    "        return np.where(self.net_input(X) >= 0.0, 1, -1)\n",
    "        \"\"\"\n",
    "        np.where 값 반환 응용 (조건 True, False 위치 브로드캐스팅)\n",
    "        np.where에서 두번째, 세번째 인자에 True일 때 값, False일 때 값을 써주면 브로드 캐스팅이 가능\n",
    "        \"\"\""
   ]
  },
  {
   "cell_type": "code",
   "execution_count": 6,
   "id": "a98f2dd7",
   "metadata": {},
   "outputs": [
    {
     "data": {
      "text/plain": [
       "\"\\nimport os\\nimport pandas as pd\\ns = os.path.join('https://archive.ics.uci.edu', 'ml', 'machine-learning-databases',\\n                'iris', 'iris.data')\\n                \\nurl에 있는 iris 데이터셋이 csv파일이 아니라 확장자가 .data인 파일이라서 read_csv 메서드로\\n읽어올 수 없음\\n\""
      ]
     },
     "execution_count": 6,
     "metadata": {},
     "output_type": "execute_result"
    }
   ],
   "source": [
    "\"\"\"\n",
    "import os\n",
    "import pandas as pd\n",
    "s = os.path.join('https://archive.ics.uci.edu', 'ml', 'machine-learning-databases',\n",
    "                'iris', 'iris.data')\n",
    "                \n",
    "url에 있는 iris 데이터셋이 csv파일이 아니라 확장자가 .data인 파일이라서 read_csv 메서드로\n",
    "읽어올 수 없음\n",
    "\"\"\""
   ]
  },
  {
   "cell_type": "code",
   "execution_count": 7,
   "id": "49edad40",
   "metadata": {},
   "outputs": [],
   "source": [
    "import pandas as pd\n",
    "import matplotlib.pyplot as plt"
   ]
  },
  {
   "cell_type": "code",
   "execution_count": 8,
   "id": "ae09388e",
   "metadata": {},
   "outputs": [],
   "source": [
    "# 붓꽃 데이터셋 로드\n",
    "df = pd.read_csv('C:/Users/LDW/Documents/ML/mlstudy/iris.csv', header=None, encoding='utf-8')"
   ]
  },
  {
   "cell_type": "code",
   "execution_count": 9,
   "id": "84f83300",
   "metadata": {},
   "outputs": [
    {
     "data": {
      "text/html": [
       "<div>\n",
       "<style scoped>\n",
       "    .dataframe tbody tr th:only-of-type {\n",
       "        vertical-align: middle;\n",
       "    }\n",
       "\n",
       "    .dataframe tbody tr th {\n",
       "        vertical-align: top;\n",
       "    }\n",
       "\n",
       "    .dataframe thead th {\n",
       "        text-align: right;\n",
       "    }\n",
       "</style>\n",
       "<table border=\"1\" class=\"dataframe\">\n",
       "  <thead>\n",
       "    <tr style=\"text-align: right;\">\n",
       "      <th></th>\n",
       "      <th>0</th>\n",
       "      <th>1</th>\n",
       "      <th>2</th>\n",
       "      <th>3</th>\n",
       "      <th>4</th>\n",
       "    </tr>\n",
       "  </thead>\n",
       "  <tbody>\n",
       "    <tr>\n",
       "      <th>145</th>\n",
       "      <td>6.7</td>\n",
       "      <td>3.0</td>\n",
       "      <td>5.2</td>\n",
       "      <td>2.3</td>\n",
       "      <td>Iris-virginica</td>\n",
       "    </tr>\n",
       "    <tr>\n",
       "      <th>146</th>\n",
       "      <td>6.3</td>\n",
       "      <td>2.5</td>\n",
       "      <td>5.0</td>\n",
       "      <td>1.9</td>\n",
       "      <td>Iris-virginica</td>\n",
       "    </tr>\n",
       "    <tr>\n",
       "      <th>147</th>\n",
       "      <td>6.5</td>\n",
       "      <td>3.0</td>\n",
       "      <td>5.2</td>\n",
       "      <td>2.0</td>\n",
       "      <td>Iris-virginica</td>\n",
       "    </tr>\n",
       "    <tr>\n",
       "      <th>148</th>\n",
       "      <td>6.2</td>\n",
       "      <td>3.4</td>\n",
       "      <td>5.4</td>\n",
       "      <td>2.3</td>\n",
       "      <td>Iris-virginica</td>\n",
       "    </tr>\n",
       "    <tr>\n",
       "      <th>149</th>\n",
       "      <td>5.9</td>\n",
       "      <td>3.0</td>\n",
       "      <td>5.1</td>\n",
       "      <td>1.8</td>\n",
       "      <td>Iris-virginica</td>\n",
       "    </tr>\n",
       "  </tbody>\n",
       "</table>\n",
       "</div>"
      ],
      "text/plain": [
       "       0    1    2    3               4\n",
       "145  6.7  3.0  5.2  2.3  Iris-virginica\n",
       "146  6.3  2.5  5.0  1.9  Iris-virginica\n",
       "147  6.5  3.0  5.2  2.0  Iris-virginica\n",
       "148  6.2  3.4  5.4  2.3  Iris-virginica\n",
       "149  5.9  3.0  5.1  1.8  Iris-virginica"
      ]
     },
     "execution_count": 9,
     "metadata": {},
     "output_type": "execute_result"
    }
   ],
   "source": [
    "df.tail()"
   ]
  },
  {
   "cell_type": "code",
   "execution_count": 10,
   "id": "383db5da",
   "metadata": {},
   "outputs": [
    {
     "data": {
      "image/png": "[encoded data removed]",
      "text/plain": [
       "<Figure size 432x288 with 1 Axes>"
      ]
     },
     "metadata": {
      "needs_background": "light"
     },
     "output_type": "display_data"
    }
   ],
   "source": [
    "import matplotlib.pyplot as plt\n",
    "\n",
    "# setosa와 versicolor를 선택\n",
    "y = df.iloc[0:100, 4].values\n",
    "y = np.where(y == 'Iris-setosa', -1, 1)\n",
    "\n",
    "# 꽃받침 길이와 꽃잎 길이를 추출 (2개의 feature)\n",
    "X = df.iloc[0:100, [0, 2]].values \n",
    "\n",
    "# 산점도\n",
    "plt.scatter(X[:50, 0], X[:50, 1],\n",
    "           color='red', marker='o', label='setosa')\n",
    "\n",
    "plt.scatter(X[50:100, 0], X[50:100, 1],\n",
    "           color='blue', marker='x', label='versicolor')\n",
    "\n",
    "plt.xlabel('sepal length [cm]')\n",
    "plt.ylabel('petal length [cm]')\n",
    "plt.legend(loc='upper left')\n",
    "plt.show()"
   ]
  },
  {
   "cell_type": "code",
   "execution_count": 11,
   "id": "ba1054d3",
   "metadata": {},
   "outputs": [
    {
     "data": {
      "image/png": "[encoded data removed]",
      "text/plain": [
       "<Figure size 432x288 with 1 Axes>"
      ]
     },
     "metadata": {
      "needs_background": "light"
     },
     "output_type": "display_data"
    }
   ],
   "source": [
    "ppn = Perceptron(eta=0.1, n_iter=10)\n",
    "ppn.fit(X, y)\n",
    "plt.plot(range(1, len(ppn.errors_) + 1),\n",
    "        ppn.errors_, marker='o')\n",
    "plt.xlabel('Epochs')\n",
    "plt.ylabel('Number of updates')\n",
    "plt.show()"
   ]
  },
  {
   "cell_type": "code",
   "execution_count": 12,
   "id": "109dab6d",
   "metadata": {},
   "outputs": [],
   "source": [
    "from matplotlib.colors import ListedColormap\n",
    "\n",
    "def plot_decision_regions(X, y, classifier, resolution=0.02):\n",
    "    \n",
    "    # 마커와 컬러맵 설정\n",
    "    markers = ('s', 'x', 'o', '^', 'v')\n",
    "    colors = ('red', 'blue', 'lightgreen', 'gray', 'cyan')\n",
    "    cmap = ListedColormap(colors[:len(np.unique(y))])\n",
    "    \"\"\"\n",
    "    ListedColormap은 인자로 주어진 색상을 그래프상에 표시하기 위한 객체\n",
    "    여기서 y의 고유값은 2개이므로, colors[0:2]의 두 개 색상인 red, blue가 \n",
    "    매핑된 ListedColormap 객체가 생성된다.\n",
    "    \"\"\"\n",
    "    \n",
    "    # 결정 경계 그리기\n",
    "    x1_min, x1_max = X[:, 0].min() - 1, X[:, 0].max() + 1 # 꽃받침 길이의 범위 설정\n",
    "    x2_min, x2_max = X[:, 1].min() - 1, X[:, 1].max() + 1 # 꽃잎 길이의 범위 설정\n",
    "    xx1, xx2 = np.meshgrid(np.arange(x1_min, x1_max, resolution),\n",
    "                          np.arange(x2_min, x2_max, resolution))\n",
    "    # np.meshgrid()는 격자의 교차점 좌표를 리턴해주는 함수\n",
    "    \n",
    "    Z = classifier.predict(np.array([xx1.ravel(), xx2.ravel()]).T)\n",
    "    # ravel()은 다차원 배열을 1차원 배열로 평평하게 만들어주는 함수\n",
    "    # np.array([xx1.ravel(), xx2.ravel()])는 (2, 71675)의 array를 반환\n",
    "    Z = Z.reshape(xx1.shape)\n",
    "    # 다시 원래의 2차원 shape으로 복원\n",
    "    plt.contourf(xx1, xx2, Z, alpha=0.3, cmap=cmap)\n",
    "    #contourf()는 등고선을 그리는 함수\n",
    "    plt.xlim(xx1.min(), xx1.max())\n",
    "    plt.ylim(xx2.min(), xx2.max())\n",
    "    \n",
    "    # 샘플의 산점도 그리기\n",
    "    for idx, cl in enumerate(np.unique(y)):\n",
    "        plt.scatter(x=X[y == cl, 0], # y == -1 또는 1인 데이터, 즉 setosa와 virginica를 에 대한 feature를 각각 분류\n",
    "                   y=X[y == cl, 1],\n",
    "                   alpha=0.8,\n",
    "                   c=colors[idx],\n",
    "                   marker=markers[idx],\n",
    "                   label=cl,\n",
    "                   edgecolor='black')\n",
    "        \n",
    "    dic = {'Z':Z, 'xx1':xx1, 'xx2':xx2} # Z와 xx1, xx2를 확인해보기 위한 부분\n",
    "    \n",
    "    return dic\n",
    "    \n",
    "    "
   ]
  },
  {
   "cell_type": "code",
   "execution_count": 13,
   "id": "06440083",
   "metadata": {},
   "outputs": [
    {
     "name": "stderr",
     "output_type": "stream",
     "text": [
      "C:\\Users\\LDW\\AppData\\Local\\Temp/ipykernel_7548/347693484.py:34: UserWarning: You passed a edgecolor/edgecolors ('black') for an unfilled marker ('x').  Matplotlib is ignoring the edgecolor in favor of the facecolor.  This behavior may change in the future.\n",
      "  plt.scatter(x=X[y == cl, 0], # y == -1 또는 1인 데이터, 즉 setosa와 virginica를 에 대한 feature를 각각 분류\n"
     ]
    },
    {
     "data": {
      "image/png": "[encoded data removed]",
      "text/plain": [
       "<Figure size 432x288 with 1 Axes>"
      ]
     },
     "metadata": {
      "needs_background": "light"
     },
     "output_type": "display_data"
    }
   ],
   "source": [
    "dic = plot_decision_regions(X, y, classifier=ppn)\n",
    "plt.xlabel('sepal length [cm]')\n",
    "plt.ylabel('petal length [cm]')\n",
    "plt.legend(loc='upper left')\n",
    "plt.show()"
   ]
  },
  {
   "cell_type": "markdown",
   "id": "4acfcce9",
   "metadata": {},
   "source": [
    "NOTE) 퍼셉트론의 수렴\n",
    "\n",
    "퍼셉트론은 두 개의 클래스가 선형적인 초평면으로 구분될 수 있을 때, 즉 선형경계로 데이터를 분류할 수 있을 때 수렴하기 때문에 선형 결정 경계로 완벽하게 데이터의 클래스가 분류되지 않는다면 최대 epoch를 지정해서 무한루프를 방지해야 한다."
   ]
  },
  {
   "cell_type": "markdown",
   "id": "0fbc30cc",
   "metadata": {},
   "source": [
    "2.3 적응형 선형 뉴런(ADALINE)과 학습의 수렴"
   ]
  },
  {
   "cell_type": "code",
   "execution_count": 14,
   "id": "6f473231",
   "metadata": {},
   "outputs": [],
   "source": [
    "class AdalineGD(object):\n",
    "    \"\"\"\n",
    "    적응형 선형 뉴런 분류기\n",
    "    \n",
    "    -매개변수-\n",
    "    eta : learning rate (0.0 ~ 1.0)\n",
    "    n_iter : 훈련 데이터셋 반복 횟수 (epoch)\n",
    "    random_state : 가중치 초기화를 위한 무작위 난수 생성기의 seed\n",
    "    \n",
    "    -속성-\n",
    "    w_ : 가중치 (1d-array)\n",
    "    cost_ : epoch마다 누적된 비용 함수의 제곱합 (list)\n",
    "    \"\"\"\n",
    "    \n",
    "    def __init__(self, eta=0.01, n_iter=50, random_state=1):\n",
    "        self.eta = eta\n",
    "        self.n_iter = n_iter\n",
    "        self.random_state = random_state\n",
    "        \n",
    "    def fit(self, X, y):\n",
    "        \"\"\"\n",
    "        훈련 데이터 학습\n",
    "\n",
    "         -매개변수-\n",
    "        X : (n_samples, n_features) 훈련 데이터\n",
    "        y : (n_samples) 타깃값\n",
    "\n",
    "        -반환값-\n",
    "        self : object\n",
    "        \"\"\"\n",
    "        \n",
    "        rgen = np.random.RandomState(self.random_state)\n",
    "        self.w_ = rgen.normal(loc=0.0, scale=0.01, size=1 + X.shape[1])\n",
    "        self.cost_ = []\n",
    "        \n",
    "        for i in range(self.n_iter):\n",
    "            net_input = self.net_input(X)\n",
    "            output = self.activation(net_input) # output = 𝜙(𝑧(𝑖))\n",
    "            \"\"\"\n",
    "            self.activation은 항등 함수기 때문에 output은 net_input인 𝑧(𝑖)이다.\n",
    "            즉 실제값과 예측값의 차이를 계산할 때 퍼셉트론처럼 예측 레이블 값\n",
    "            (-1 혹은 1)을 사용하는 것이 아니라, y - 𝜙(𝑧(𝑖))인 실수값을 사용한다. \n",
    "            \"\"\"\n",
    "            errors = (y - output) # errors = (y - 𝜙(𝑧(𝑖)))\n",
    "            self.w_[1:] += self.eta * X.T.dot(errors)\n",
    "            self.w_[0] += self.eta * errors.sum()\n",
    "            # self.w_[0]은 절편인데, 여기서 무엇을 의미?\n",
    "            cost = (errors**2).sum() / 2.0\n",
    "            self.cost_.append(cost)\n",
    "        return self\n",
    "        \n",
    "    def net_input(self, X):\n",
    "        \"\"\"\n",
    "        최종 입력인 𝑧(𝑖) 계산\n",
    "        \"\"\"\n",
    "        return np.dot(X, self.w_[1:]) + self.w_[0]\n",
    "    \n",
    "    def activation(self, X):\n",
    "        \"\"\"\n",
    "        선형 활성화 함수 𝜙(𝑧(𝑖))\n",
    "        여기선 활성화 함수가 항등 함수기 때문에 입력값과 출력값이 같다.\n",
    "        \"\"\"\n",
    "        return X\n",
    "    \n",
    "    def predict(self, X):\n",
    "        \"\"\"\n",
    "        단위 계단 함수를 사용하여 클래스 레이블을 반환\n",
    "        \"\"\"\n",
    "        return np.where(self.activation(self.net_input(X)) >= 0.0, 1, -1)"
   ]
  },
  {
   "cell_type": "markdown",
   "id": "49bf75ad",
   "metadata": {},
   "source": [
    "비용함수 J(w) = $\\frac{1}{2} \\sum_{i}(y^{(i)} - \\phi(z^{(i)}))^{2}$"
   ]
  },
  {
   "cell_type": "markdown",
   "id": "998cdf88",
   "metadata": {},
   "source": [
    "ADALINE은 퍼셉트론처럼 개별 훈련 샘플마다 평가한 후 가중치를 업데이트하지 않고 전체 훈련 데이터셋을 기반으로 gradient를 계산한다. \n",
    "배치 경사 하강법이라고도 함."
   ]
  },
  {
   "cell_type": "code",
   "execution_count": 15,
   "id": "e0685846",
   "metadata": {},
   "outputs": [
    {
     "data": {
      "image/png": "[encoded data removed]",
      "text/plain": [
       "<Figure size 720x288 with 2 Axes>"
      ]
     },
     "metadata": {
      "needs_background": "light"
     },
     "output_type": "display_data"
    }
   ],
   "source": [
    "fig, ax = plt.subplots(nrows=1, ncols=2, figsize=(10, 4))\n",
    "ada1 = AdalineGD(n_iter=10, eta=0.01).fit(X, y)\n",
    "ax[0].plot(range(1, len(ada1.cost_) + 1),\n",
    "          np.log10(ada1.cost_), marker='o')\n",
    "ax[0].set_xlabel('Epochs')\n",
    "ax[0].set_ylabel('log(Sum-squared-error)')\n",
    "ax[0].set_title('Adaline - Learning rate 0.01')\n",
    "ada2 = AdalineGD(n_iter=10, eta=0.0001).fit(X, y)\n",
    "ax[1].plot(range(1, len(ada2.cost_) + 1),\n",
    "          ada2.cost_, marker='o')\n",
    "ax[1].set_xlabel('Epochs')\n",
    "ax[1].set_ylabel('Sum-squared-error')\n",
    "ax[1].set_title('Adaline - Learning rate 0.0001')\n",
    "plt.show()"
   ]
  },
  {
   "cell_type": "markdown",
   "id": "a7ad0660",
   "metadata": {},
   "source": [
    "위 그래프의 2가지 문제\n",
    "1. 왼쪽 그래프는 학습률이 너무 커서 전역 최솟값을 지나쳐버렸기 때문에 오차가 점점 커진다.\n",
    "2. 오른쪽 그래프는 비용함수를 감소시키고는 있지만, 학습률이 너무 작아서 모델이 전역 최솟값에 도달하기 위해서는 많은 epoch, 즉 많은 반복 학습이 실시되어야 한다."
   ]
  },
  {
   "cell_type": "markdown",
   "id": "68e3aad0",
   "metadata": {},
   "source": [
    "2.3.3 특성 스케일을 조정하여 경사 하강법 결과 향상\n",
    "\n",
    "경사 하강법은 feature의 스케일을 조정하여 혜택을 볼 수 있는 알고리즘\n",
    "\n",
    "표준화(standardization) : 데이터에 평균이 0이고 단위 분산을 갖는 표준 정규 분포의 성질을 부여하는 방법\n",
    "\n",
    "표준화 특성 $x^{'} = \\frac{x_{j} - \\mu_{j}}{\\sigma_{j}}$\n",
    "\n",
    "𝑥𝑗는 모든 훈련 샘플에서 j번째 특성 값을 포함한 벡터"
   ]
  },
  {
   "cell_type": "code",
   "execution_count": 16,
   "id": "01d3c29d",
   "metadata": {},
   "outputs": [],
   "source": [
    "X_std = np.copy(X)\n",
    "X_std[:,0] = (X[:,0] - X[:,0].mean()) / X[:,0].std()\n",
    "X_std[:,1] = (X[:,1] - X[:,1].mean()) / X[:,1].std()"
   ]
  },
  {
   "cell_type": "code",
   "execution_count": 17,
   "id": "84121f98",
   "metadata": {},
   "outputs": [
    {
     "name": "stderr",
     "output_type": "stream",
     "text": [
      "C:\\Users\\LDW\\AppData\\Local\\Temp/ipykernel_7548/347693484.py:34: UserWarning: You passed a edgecolor/edgecolors ('black') for an unfilled marker ('x').  Matplotlib is ignoring the edgecolor in favor of the facecolor.  This behavior may change in the future.\n",
      "  plt.scatter(x=X[y == cl, 0], # y == -1 또는 1인 데이터, 즉 setosa와 virginica를 에 대한 feature를 각각 분류\n"
     ]
    },
    {
     "data": {
      "image/png": "[encoded data removed]",
      "text/plain": [
       "<Figure size 432x288 with 1 Axes>"
      ]
     },
     "metadata": {
      "needs_background": "light"
     },
     "output_type": "display_data"
    },
    {
     "data": {
      "image/png": "[encoded data removed]",
      "text/plain": [
       "<Figure size 432x288 with 1 Axes>"
      ]
     },
     "metadata": {
      "needs_background": "light"
     },
     "output_type": "display_data"
    }
   ],
   "source": [
    "ada = AdalineGD(n_iter=15, eta=0.01)\n",
    "ada.fit(X_std, y)\n",
    "\n",
    "plot_decision_regions(X_std, y, classifier=ada)\n",
    "# 결정경계를 그리는 plot함수\n",
    "plt.title('Adaline - Gradient Descent')\n",
    "plt.xlabel('sepal length [standardized]')\n",
    "plt.ylabel('petal length [standardized]')\n",
    "plt.legend(loc='upper left')\n",
    "plt.tight_layout()\n",
    "plt.show()\n",
    "\n",
    "plt.plot(range(1, len(ada.cost_) + 1),\n",
    "        ada.cost_, marker='o')\n",
    "plt.xlabel('Epochs')\n",
    "plt.ylabel('Sum-squared-error')\n",
    "plt.tight_layout()\n",
    "plt.show()"
   ]
  },
  {
   "cell_type": "markdown",
   "id": "171139b7",
   "metadata": {},
   "source": [
    "feature의 스케일을 조정하지 않은 데이터에 대한 결과와 비교할 때, 동일한 학습률인 0.01에서 표준화한 feature를 사용하니 비용함수가 감소했다. "
   ]
  },
  {
   "cell_type": "markdown",
   "id": "ee1adbdb",
   "metadata": {},
   "source": [
    "2.3.4 대규모 머신 러닝과 확률적 경사 하강법\n",
    "\n",
    "확률적 경사 하강법은 모든 샘플 xi에 대하여 누적된 오차의 합을 기반으로 가중치를 업데이트 하는 대신 각 훈련 샘플에 대해 조금씩 가중치를 업데이트한다.\n",
    "\n",
    "이 방법은 비선형 비용 함수를 다룰 때 얕은 지역 최솟값을 더 쉽게 탈출할 수 있다.\n",
    "\n",
    "확률적 경사 하강법에서는 훈련 샘플 순서를 무작위하게 주입하는 것이 중요하며, 순환되지 않도록 epoch마다 훈련 데이터셋을 섞는 것이 좋다. "
   ]
  },
  {
   "cell_type": "code",
   "execution_count": 31,
   "id": "10a148cc",
   "metadata": {},
   "outputs": [],
   "source": [
    "class AdalineSGD(object):\n",
    "    \"\"\"\n",
    "    ADApptive Linear Neuron 분류기\n",
    "    \n",
    "    -매개변수-\n",
    "    eta: 학습률\n",
    "    n_iter : 훈련 데이터셋 반복 횟수\n",
    "    shuffle : True로 설정하면 같은 반복이 되지 않도록 에포크마다 훈련 데이터를 섞는다.\n",
    "    (bool형 / default : True)\n",
    "    random_state : 난수 생성기 seed\n",
    "    \n",
    "    -속성-\n",
    "    w_ : 가중치 (1d-array)\n",
    "    cost_ : epoch마다 누적된 비용 함수의 제곱합 (list)\n",
    "    \"\"\"\n",
    "    \n",
    "    def __init__(self, eta=0.01, n_iter=10, shuffle=True, random_state=None):\n",
    "        self.eta = eta\n",
    "        self.n_iter = n_iter\n",
    "        self.w_initialized = False\n",
    "        self.shuffle = shuffle\n",
    "        self.random_state = random_state\n",
    "        \n",
    "    def fit(self, X, y):\n",
    "        \"\"\"\n",
    "        훈련 데이터 학습\n",
    "\n",
    "         -매개변수-\n",
    "        X : (n_samples, n_features) 훈련 데이터\n",
    "        y : (n_samples) 타깃값\n",
    "\n",
    "        -반환값-\n",
    "        self : object\n",
    "        \"\"\"\n",
    "        \n",
    "        self._initialize_weights(X.shape[1]) # feature 개수가 입력 인자\n",
    "        self.cost_ = [] # 평균 비용\n",
    "        for i in range(self.n_iter):\n",
    "            if self.shuffle: # shuffle = True면, \n",
    "                X, y = self._shuffle(X, y)\n",
    "            cost = []\n",
    "            for xi, target in zip(X, y):\n",
    "                cost.append(self._update_weights(xi, target))\n",
    "            avg_cost = sum(cost) / len(y)\n",
    "            self.cost_.append(avg_cost)\n",
    "            \n",
    "        return self\n",
    "    \n",
    "    def partial_fit(self, X, y):\n",
    "        \"\"\"가중치를 다시 초기화하지 않고 훈련 데이터를 학습\"\"\"\n",
    "        \n",
    "        if not self.w_initialized:\n",
    "            self._initialize_weights(X.shape[1])\n",
    "        if y.ravel().shape[0] > 1:\n",
    "            for xi, target in zip(X, y):\n",
    "                self._update_weights(xi, target)\n",
    "        else:\n",
    "            self._update_weights(X, y)\n",
    "            \n",
    "        return self\n",
    "    \n",
    "    def _shuffle(self, X, y):\n",
    "        \"\"\"훈련 데이터 섞기\"\"\"\n",
    "        r = self.rgen.permutation(len(y))\n",
    "        # y의 길이만큼의 무작위 순서의 배열 생성\n",
    "    \n",
    "        return X[r], y[r] # 행렬 X와 벡터 y내의 데이터를 무작위 순서의 배열로 섞는다.  \n",
    "    \n",
    "    def _initialize_weights(self, m):\n",
    "        \"\"\" 랜덤한 작은 수로 가중치를 초기화 \"\"\"\n",
    "        \n",
    "        self.rgen = np.random.RandomState(self.random_state)\n",
    "        self.w_ = self.rgen.normal(loc=0.0, scale=0.01, size=1 + m)\n",
    "        self.w_initialized = True\n",
    "        \n",
    "    def _update_weights(self, xi, target):\n",
    "        \"\"\" 아달린 학습 규칙을 적용하여 가중치 업데이트 \"\"\"\n",
    "        \n",
    "        output = self.activation(self.net_input(xi))\n",
    "        error = (target - output)\n",
    "        self.w_[1:] += self.eta * xi.dot(error)\n",
    "        self.w_[0] += self.eta * error \n",
    "        # self.w_[0]은 절편이므로 업데이트 할 때, feature를 담고 있는 행벡터와 곱하지 않는다. \n",
    "        cost = 0.5 * error**2\n",
    "    \n",
    "        return cost\n",
    "    \n",
    "    def net_input(self, X): # X는 하나의 샘플에 대한 행벡터\n",
    "        \"\"\" 최종 입력 계산 \"\"\"\n",
    "        \n",
    "        return np.dot(X, self.w_[1:]) + self.w_[0]\n",
    "    \n",
    "    def activation(self, X):\n",
    "        \"\"\" 선형 활성화 계산 \"\"\"\n",
    "        \n",
    "        return X\n",
    "    \n",
    "    def predict(self, X):\n",
    "        \"\"\" 단위 계단 함수를 사용하여 클래스 레이블을 반환 \"\"\"\n",
    "        \n",
    "        return np.where(self.activation(self.net_input(X)) >= 0.0, 1, -1)"
   ]
  },
  {
   "cell_type": "code",
   "execution_count": 33,
   "id": "b6feab3b",
   "metadata": {},
   "outputs": [
    {
     "name": "stderr",
     "output_type": "stream",
     "text": [
      "C:\\Users\\LDW\\AppData\\Local\\Temp/ipykernel_7548/347693484.py:34: UserWarning: You passed a edgecolor/edgecolors ('black') for an unfilled marker ('x').  Matplotlib is ignoring the edgecolor in favor of the facecolor.  This behavior may change in the future.\n",
      "  plt.scatter(x=X[y == cl, 0], # y == -1 또는 1인 데이터, 즉 setosa와 virginica를 에 대한 feature를 각각 분류\n"
     ]
    },
    {
     "data": {
      "image/png": "[encoded data removed]",
      "text/plain": [
       "<Figure size 432x288 with 1 Axes>"
      ]
     },
     "metadata": {
      "needs_background": "light"
     },
     "output_type": "display_data"
    },
    {
     "data": {
      "image/png": "[encoded data removed]",
      "text/plain": [
       "<Figure size 432x288 with 1 Axes>"
      ]
     },
     "metadata": {
      "needs_background": "light"
     },
     "output_type": "display_data"
    }
   ],
   "source": [
    "ada = AdalineSGD(n_iter=15, eta=0.01, random_state=1)\n",
    "ada.fit(X_std, y)\n",
    "\n",
    "plot_decision_regions(X_std, y, classifier=ada)\n",
    "plt.title('Adaline - Stochastic Gradient Descent')\n",
    "plt.xlabel('sepal length [standardized]')\n",
    "plt.ylabel('petal length [standardized]')\n",
    "plt.legend(loc='upper left')\n",
    "plt.show()\n",
    "\n",
    "plt.plot(range(1, len(ada.cost_) + 1), ada.cost_, marker='o')\n",
    "plt.xlabel('Epochs')\n",
    "plt.ylabel('Average Cost')\n",
    "plt.tight_layout()\n",
    "plt.show()"
   ]
  },
  {
   "cell_type": "markdown",
   "id": "9e53e101",
   "metadata": {},
   "source": [
    "3.1 분류 알고리즘 선택\n",
    "\n",
    "머신러닝 알고리즘을 훈련시키기 위한 주요 단계\n",
    "1. feature를 선택하고 훈련 샘플을 모은다.\n",
    "2. 성능 지표를 선택한다.\n",
    "3. 분류 모델과 최적화 알고리즘을 선택한다.\n",
    "4. 모델의 성능을 평가한다.\n",
    "5. 알고리즘을 튜닝한다. "
   ]
  },
  {
   "cell_type": "markdown",
   "id": "80b3d18e",
   "metadata": {},
   "source": [
    "3.2 사이킷런 첫걸음: 퍼셉트론 훈련"
   ]
  },
  {
   "cell_type": "code",
   "execution_count": 38,
   "id": "611dc002",
   "metadata": {},
   "outputs": [
    {
     "name": "stdout",
     "output_type": "stream",
     "text": [
      "클래스 레이블: [0 1 2]\n"
     ]
    }
   ],
   "source": [
    "from sklearn import datasets\n",
    "import numpy as np\n",
    "\n",
    "iris = datasets.load_iris()\n",
    "X = iris.data[:, [2,3]]\n",
    "y = iris.target\n",
    "print('클래스 레이블:', np.unique(y))"
   ]
  },
  {
   "cell_type": "code",
   "execution_count": 44,
   "id": "57c7536a",
   "metadata": {},
   "outputs": [],
   "source": [
    "from sklearn.model_selection import train_test_split\n",
    "X_train, X_test, y_train, y_test = train_test_split(X, y, test_size=0.3, random_state=1, stratify=y)\n",
    "# stratify는 계층화"
   ]
  },
  {
   "cell_type": "markdown",
   "id": "9c627e91",
   "metadata": {},
   "source": [
    "train_test_split 함수는 데이터셋을 훈련용과 테스트용으로 분할하기 전에 무작위로 섞는다. \n",
    "\n",
    "계층화는 train_test_split 함수가 훈련 데이터셋과 테스트 데이터셋의 레이블 비율을 입력 데이터셋과 동일하게 만드는 것"
   ]
  },
  {
   "cell_type": "code",
   "execution_count": 46,
   "id": "ac65e95b",
   "metadata": {},
   "outputs": [
    {
     "name": "stdout",
     "output_type": "stream",
     "text": [
      "y의 레이블 카운트: [50 50 50]\n",
      "y_train의 레이블 카운트: [35 35 35]\n",
      "y_test의 레이블 카운트: [15 15 15]\n"
     ]
    }
   ],
   "source": [
    "\"\"\" 입력 데이터셋의 레이블 비율대로 훈련 데이터셋과 테스트 데이터셋의 레이블이 나누어졌는지 확인 \"\"\"\n",
    "\n",
    "print('y의 레이블 카운트:', np.bincount(y))\n",
    "print(\"y_train의 레이블 카운트:\", np.bincount(y_train))\n",
    "print('y_test의 레이블 카운트:', np.bincount(y_test))"
   ]
  },
  {
   "cell_type": "code",
   "execution_count": 47,
   "id": "5a985264",
   "metadata": {},
   "outputs": [],
   "source": [
    "from sklearn.preprocessing import StandardScaler\n",
    "sc = StandardScaler()\n",
    "sc.fit(X_train)\n",
    "# fit 메서드는 각 특성마다 평균과 표준편차를 계산\n",
    "X_train_std = sc.transform(X_train)\n",
    "# transform 메서드는 계산된 평균과 표준편차를 사용하여 데이터셋을 표준화한다.\n",
    "X_test_std = sc.transform(X_test)\n",
    "# 훈련 데이터셋과 테스트 데이터셋이 서로 같은 비율로 표준화되도록 동일한 \n",
    "# 평균과 표준편차를 사용하여 표준화한다."
   ]
  },
  {
   "cell_type": "code",
   "execution_count": 48,
   "id": "9c7cad52",
   "metadata": {},
   "outputs": [
    {
     "data": {
      "text/plain": [
       "Perceptron(eta0=0.1, random_state=1)"
      ]
     },
     "execution_count": 48,
     "metadata": {},
     "output_type": "execute_result"
    }
   ],
   "source": [
    "from sklearn.linear_model import Perceptron\n",
    "ppn = Perceptron(eta0=0.1, random_state=1)\n",
    "ppn.fit(X_train_std, y_train)"
   ]
  },
  {
   "cell_type": "code",
   "execution_count": 50,
   "id": "4a99e96c",
   "metadata": {},
   "outputs": [
    {
     "name": "stdout",
     "output_type": "stream",
     "text": [
      "잘못 분류된 샘플 개수: 1\n"
     ]
    }
   ],
   "source": [
    "y_pred = ppn.predict(X_test_std)\n",
    "print('잘못 분류된 샘플 개수: %d' % (y_test != y_pred).sum())"
   ]
  },
  {
   "cell_type": "code",
   "execution_count": 52,
   "id": "0d13e732",
   "metadata": {},
   "outputs": [
    {
     "name": "stdout",
     "output_type": "stream",
     "text": [
      "정확도: 0.978\n"
     ]
    }
   ],
   "source": [
    "from sklearn.metrics import accuracy_score\n",
    "print(\"정확도: %.3f\" % accuracy_score(y_test, y_pred))"
   ]
  },
  {
   "cell_type": "code",
   "execution_count": 54,
   "id": "542b8705",
   "metadata": {},
   "outputs": [
    {
     "name": "stdout",
     "output_type": "stream",
     "text": [
      "정확도: 0.978\n"
     ]
    }
   ],
   "source": [
    "print(\"정확도: %.3f\" % ppn.score(X_test_std, y_test))\n",
    "# 사이킷런의 classifier는 예측정확도를 계산하는 score 메서드를 포함하고 있다."
   ]
  },
  {
   "cell_type": "markdown",
   "id": "f8ccef6b",
   "metadata": {},
   "source": [
    "과대적합(Overfitting) : 훈련 데이터에 있는 패턴은 감지하지만 본 적 없는 새로운 데이터에는 일반화되지 못하는 현상"
   ]
  },
  {
   "cell_type": "code",
   "execution_count": 73,
   "id": "cc0998cc",
   "metadata": {},
   "outputs": [],
   "source": [
    "from matplotlib.colors import ListedColormap\n",
    "import matplotlib.pyplot as plt\n",
    "\n",
    "def plot_decision_regions(X, y, classifier, test_idx=None, resolution=0.02):\n",
    "    # 마커와 컬러맵을 설정\n",
    "    markers = ('s', 'x', 'o', '^', 'v')\n",
    "    colors = ('red', 'blue', 'lightgreen', 'gray', 'cyan')\n",
    "    cmap = ListedColormap(colors[:len(np.unique(y))])\n",
    "    \n",
    "    # 결정 경계 그리기\n",
    "    x1_min, x1_max = X[:, 0].min() - 1, X[:, 0].max() + 1\n",
    "    x2_min, x2_max = X[:, 1].min() - 1, X[:, 1].max() + 1\n",
    "    xx1, xx2 = np.meshgrid(np.arange(x1_min, x1_max, resolution),\n",
    "                          np.arange(x2_min, x2_max, resolution))\n",
    "    # xx1은 x축 방향, xx2는 y축 방향에 대한 교차점의 좌표 (간격은 resolution만큼)\n",
    "    Z = classifier.predict(np.array([xx1.ravel(), xx2.ravel()]).T)\n",
    "    Z = Z.reshape(xx1.shape) # Z는 예측값으로 벡터인데 왜 xx1과 같은 2차원으로 만드는지?\n",
    "    plt.contourf(xx1, xx2, Z, alpha=0.3, cmap=cmap)\n",
    "    # xx1과 xx2 두 개의 좌표와 이러한 좌표 (xx1, xx2)의 함수값인 Z를 바탕으로 등고선을 그린다.\n",
    "    # 간단히, 두 개의 X축과 이에 해당하는 Y좌표(함숫값)를 통해서 등고선을 그린다고 생각하면 된다.\n",
    "    plt.xlim(xx1.min(), xx1.max())\n",
    "    plt.ylim(xx2.min(), xx2.max())\n",
    "    \n",
    "    for idx, cl in enumerate(np.unique(y)):\n",
    "        plt.scatter(x=X[y == cl, 0], y=X[y == cl, 1],\n",
    "                   alpha=0.8, c=colors[idx],\n",
    "                   marker=markers[idx], label=cl,\n",
    "                   edgecolor='black')\n",
    "        \n",
    "    # 테스트 샘플을 부각시켜서 그리기\n",
    "    if test_idx:\n",
    "        X_test, y_test = X[test_idx, :], y[test_idx]\n",
    "        # 특정 샘플(하나 혹은 여러개) 선택\n",
    "        \n",
    "        plt.scatter(X_test[:, 0], X_test[:, 1],\n",
    "                   facecolors='none', edgecolor='black', alpha=1.0,\n",
    "                   linewidth=1, marker='o',\n",
    "                   s=100, label='test set')\n",
    "    "
   ]
  },
  {
   "cell_type": "code",
   "execution_count": 75,
   "id": "e3c28b76",
   "metadata": {},
   "outputs": [
    {
     "name": "stderr",
     "output_type": "stream",
     "text": [
      "C:\\Users\\LDW\\AppData\\Local\\Temp/ipykernel_7548/808999786.py:25: UserWarning: You passed a edgecolor/edgecolors ('black') for an unfilled marker ('x').  Matplotlib is ignoring the edgecolor in favor of the facecolor.  This behavior may change in the future.\n",
      "  plt.scatter(x=X[y == cl, 0], y=X[y == cl, 1],\n"
     ]
    },
    {
     "data": {
      "image/png": "[encoded data removed]",
      "text/plain": [
       "<Figure size 432x288 with 1 Axes>"
      ]
     },
     "metadata": {
      "needs_background": "light"
     },
     "output_type": "display_data"
    }
   ],
   "source": [
    "\"\"\" vstack과 hstack은 배열을 결합하는 함수 \"\"\"\n",
    "X_combined_std = np.vstack((X_train_std, X_test_std))\n",
    "# vstack : 배열을 세로로 결합 (결합 시 column 개수가 일치해야함)\n",
    "y_combined = np.hstack((y_train, y_test)) # y_train과 y_test는 행의 개수가 다른데 왜 가로결합을?\n",
    "# hstack : 배열을 가로로 결합(옆으로) (결합 시 row 개수가 일치해야함)\n",
    "plot_decision_regions(X=X_combined_std, y=y_combined, classifier=ppn, \n",
    "                     test_idx=range(105,150))\n",
    "plt.xlabel('petal length [standardized]')\n",
    "plt.ylabel('petal width [standardized]')\n",
    "plt.legend(loc='upper left')\n",
    "plt.tight_layout()\n",
    "plt.show()"
   ]
  },
  {
   "cell_type": "markdown",
   "id": "1e677369",
   "metadata": {},
   "source": [
    "그래프에서 볼 수 있듯이, 세 개의 붓꽃 클래스는 선형 결정 경계로 완벽하게 구분되지 못한다. 퍼셉트론 알고리즘은 선형적으로 구분되지 않는 데이터셋에는 수렴하지 못하기 때문에 실전에서 잘 쓰이지 않는다."
   ]
  },
  {
   "cell_type": "markdown",
   "id": "864a8f7b",
   "metadata": {},
   "source": [
    "3.3.2 다중 클래스를 위한 로지스틱 회귀 (= softmax regression)\n",
    "\n",
    "odds ratio = $\\frac{P}{1 - P}$ (의 형태)\n",
    "\n",
    "ex. P = 양성일 확률일 때, $\\frac{P}{1 - P}$ = $\\frac{양성일 확률}{음성일 확률}$"
   ]
  },
  {
   "cell_type": "code",
   "execution_count": 6,
   "id": "eb419430",
   "metadata": {},
   "outputs": [
    {
     "data": {
      "image/png": "[encoded data removed]",
      "text/plain": [
       "<Figure size 432x288 with 1 Axes>"
      ]
     },
     "metadata": {
      "needs_background": "light"
     },
     "output_type": "display_data"
    }
   ],
   "source": [
    "import matplotlib.pyplot as plt\n",
    "import numpy as np\n",
    "\n",
    "def sigmoid(z):\n",
    "    return 1.0 / (1.0 + np.exp(-z))\n",
    "z = np.arange(-7, 7, 0.1)\n",
    "phi_z = sigmoid(z)\n",
    "plt.plot(z, phi_z)\n",
    "plt.axvline(0.0, color='k') # z축 0.0에 세로 기준선 그리기 \n",
    "plt.ylim(-0.1, 1.1)\n",
    "plt.xlabel('z')\n",
    "plt.ylabel('$\\phi (z)$')\n",
    "\n",
    "# y축의 눈금과 격자선\n",
    "plt.yticks([0.0, 0.5, 1.0])\n",
    "ax = plt.gca()\n",
    "ax.yaxis.grid(True)\n",
    "plt.tight_layout()\n",
    "plt.show()"
   ]
  },
  {
   "cell_type": "markdown",
   "id": "6df5a21e",
   "metadata": {},
   "source": [
    "$\\phi (z) = P(y=1|x;w)$ -> 시그모이드 함수의 출력은 특정 샘플이 클래스 1에 속할 확률\n",
    "\n",
    "특정 샘플이 클래스 0에 속할 확률 -> $P(y=0|x;w) = 1 - P(y=1|x;w)$\n",
    "\n",
    "이러한 예측 확률을 임계 함수의 입력값으로 넣어서 이진값으로 출력"
   ]
  },
  {
   "cell_type": "markdown",
   "id": "375b2ae1",
   "metadata": {},
   "source": [
    "3.3.3 로지스틱 비용 함수의 가중치 함수"
   ]
  },
  {
   "cell_type": "code",
   "execution_count": 9,
   "id": "9fef4640",
   "metadata": {},
   "outputs": [
    {
     "name": "stderr",
     "output_type": "stream",
     "text": [
      "findfont: Font family ['NanumMyeongjoOTF'] not found. Falling back to DejaVu Sans.\n",
      "/var/folders/0t/m5tmk07x1jn8mbwk5mpr748h0000gp/T/ipykernel_17482/362768905.py:16: UserWarning: Glyph 51068 (\\N{HANGUL SYLLABLE IL}) missing from current font.\n",
      "  plt.tight_layout()\n",
      "/var/folders/0t/m5tmk07x1jn8mbwk5mpr748h0000gp/T/ipykernel_17482/362768905.py:16: UserWarning: Glyph 46412 (\\N{HANGUL SYLLABLE DDAE}) missing from current font.\n",
      "  plt.tight_layout()\n",
      "/Users/ldw/opt/anaconda3/lib/python3.9/site-packages/IPython/core/pylabtools.py:151: UserWarning: Glyph 51068 (\\N{HANGUL SYLLABLE IL}) missing from current font.\n",
      "  fig.canvas.print_figure(bytes_io, **kw)\n",
      "/Users/ldw/opt/anaconda3/lib/python3.9/site-packages/IPython/core/pylabtools.py:151: UserWarning: Glyph 46412 (\\N{HANGUL SYLLABLE DDAE}) missing from current font.\n",
      "  fig.canvas.print_figure(bytes_io, **kw)\n"
     ]
    },
    {
     "data": {
      "image/png": "[encoded data removed]",
      "text/plain": [
       "<Figure size 432x288 with 1 Axes>"
      ]
     },
     "metadata": {
      "needs_background": "light"
     },
     "output_type": "display_data"
    }
   ],
   "source": [
    "def cost_1(z):\n",
    "    return -np.log(sigmoid(z)) # y = 1 일 때, 비용 \n",
    "def cost_0(z):\n",
    "    return -np.log(1 - sigmoid(z)) # y = 0 일 때, 비용\n",
    "z = np.arange(-10, 10, 0.1)\n",
    "phi_z = sigmoid(z)\n",
    "c1 = [cost_1(x) for x in z]\n",
    "plt.plot(phi_z, c1, label='J(w) y=1일 때')\n",
    "c0 = [cost_0(x) for x in z]\n",
    "plt.plot(phi_z, c0, linestyle='--', label='J(w) y=0일 때')\n",
    "plt.ylim(0.0, 5.1)\n",
    "plt.xlim(0, 1)\n",
    "plt.xlabel('$\\phi$(z)')\n",
    "plt.ylabel('J(w)')\n",
    "plt.legend(loc='best')\n",
    "plt.tight_layout()\n",
    "plt.show()"
   ]
  }
 ],
 "metadata": {
  "kernelspec": {
   "display_name": "Python 3 (ipykernel)",
   "language": "python",
   "name": "python3"
  },
  "language_info": {
   "codemirror_mode": {
    "name": "ipython",
    "version": 3
   },
   "file_extension": ".py",
   "mimetype": "text/x-python",
   "name": "python",
   "nbconvert_exporter": "python",
   "pygments_lexer": "ipython3",
   "version": "3.9.12"
  }
 },
 "nbformat": 4,
 "nbformat_minor": 5
}

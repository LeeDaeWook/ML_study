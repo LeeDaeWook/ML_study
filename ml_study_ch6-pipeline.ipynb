{
 "cells": [
  {
   "cell_type": "markdown",
   "id": "f5879f7d",
   "metadata": {},
   "source": [
    "## 6.1 파이프라인을 사용한 효율적인 워크플로"
   ]
  },
  {
   "cell_type": "code",
   "execution_count": 3,
   "id": "0e532ea0",
   "metadata": {},
   "outputs": [],
   "source": [
    "# 위스콘신 유방암 데이터셋 로드\n",
    "\n",
    "import pandas as pd\n",
    "\n",
    "df = pd.read_csv('https://archive.ics.uci.edu/ml/machine-learning-databases/breast-cancer-wisconsin/wdbc.data', \n",
    "                 header=None)"
   ]
  },
  {
   "cell_type": "code",
   "execution_count": 31,
   "id": "24c1dc8f",
   "metadata": {},
   "outputs": [
    {
     "data": {
      "text/plain": [
       "array(['B', 'M'], dtype=object)"
      ]
     },
     "execution_count": 31,
     "metadata": {},
     "output_type": "execute_result"
    }
   ],
   "source": [
    "# feature와 target 데이터로 분류 & LabelEncoder로 범주형 데이터를 수치형 데이터로 인코딩\n",
    "\n",
    "from sklearn.preprocessing import LabelEncoder\n",
    "\n",
    "X = df.loc[:, 2:].values\n",
    "y = df.loc[:, 1].values\n",
    "le = LabelEncoder()\n",
    "y = le.fit_transform(y)\n",
    "le.classes_"
   ]
  },
  {
   "cell_type": "code",
   "execution_count": 32,
   "id": "d3881350",
   "metadata": {},
   "outputs": [
    {
     "data": {
      "text/plain": [
       "array([1, 0])"
      ]
     },
     "execution_count": 32,
     "metadata": {},
     "output_type": "execute_result"
    }
   ],
   "source": [
    "le.transform(['M', 'B'])"
   ]
  },
  {
   "cell_type": "code",
   "execution_count": 33,
   "id": "346e10fa",
   "metadata": {},
   "outputs": [],
   "source": [
    "# 학습 데이터와 테스트 데이터로 split\n",
    "\n",
    "from sklearn.model_selection import train_test_split\n",
    "\n",
    "\"\"\"\n",
    "- stratify 값으로는 target 값을 지정\n",
    "- stratify값을 target 값으로 지정해주면 target의 class 비율을 유지 한 채로 데이터 셋을 split\n",
    "\n",
    "- random_state 파라미터는 train_test_split 함수를 호출할 때마다 동일한 학습/테스트 데이터셋을 생성하기 위한 난수값\n",
    "\"\"\"\n",
    "\n",
    "X_train, X_test, y_train, y_test = train_test_split(X, y, test_size=0.2, stratify=y, random_state=1)"
   ]
  },
  {
   "cell_type": "markdown",
   "id": "abb20cc5",
   "metadata": {},
   "source": [
    "#### Explanation)\n",
    "\n",
    "- 표준화, 주성분 분석, 로지스틱 회귀를 포함하는 pipeline 객체 생성\n",
    "\n",
    "- make_pipeline 함수는 여러 개의 사이킷런 변환기(입력에 대해 fit 메서드와 transform 메서드를 지원하는 객체)와 그 뒤에 fit 메서드와predict 메서드를 구현한 사이킷런 사이킷런 추정기를 연결할 수 있다.\n",
    "\n",
    "- Pipeline 객체의 fit 메서드를 호출하면 데이터가 중간 단계에 있는 모든 변환기의 fit 메서드와 transform 메서드를 차례로 거쳐 추정기 객체(파이프라인의 마지막 단계)에 도달한다.\n",
    "- 추정기는 변환된 훈련 데이터셋을 사용하여 학습\n",
    "- 파이프라인의 중간 단계의 횟수는 제한이 없다."
   ]
  },
  {
   "cell_type": "code",
   "execution_count": 37,
   "id": "6c162039",
   "metadata": {},
   "outputs": [
    {
     "name": "stdout",
     "output_type": "stream",
     "text": [
      "테스트 정확도: 0.956\n"
     ]
    }
   ],
   "source": [
    "from sklearn.preprocessing import StandardScaler\n",
    "from sklearn.decomposition import PCA\n",
    "from sklearn.linear_model import LogisticRegression\n",
    "from sklearn.pipeline import make_pipeline\n",
    "\n",
    "pipe_lr = make_pipeline(StandardScaler(), \n",
    "                        PCA(n_components=2),\n",
    "                        LogisticRegression(random_state=1))\n",
    "\n",
    "pipe_lr.fit(X_train, y_train)\n",
    "y_pred = pipe_lr.predict(X_test)\n",
    "print('테스트 정확도: %.3f' % pipe_lr.score(X_test, y_test))"
   ]
  },
  {
   "cell_type": "code",
   "execution_count": 39,
   "id": "e75faef1",
   "metadata": {},
   "outputs": [
    {
     "data": {
      "text/html": [
       "<style>#sk-b84ac615-f844-4795-b399-46686b96dec7 {color: black;background-color: white;}#sk-b84ac615-f844-4795-b399-46686b96dec7 pre{padding: 0;}#sk-b84ac615-f844-4795-b399-46686b96dec7 div.sk-toggleable {background-color: white;}#sk-b84ac615-f844-4795-b399-46686b96dec7 label.sk-toggleable__label {cursor: pointer;display: block;width: 100%;margin-bottom: 0;padding: 0.3em;box-sizing: border-box;text-align: center;}#sk-b84ac615-f844-4795-b399-46686b96dec7 label.sk-toggleable__label-arrow:before {content: \"▸\";float: left;margin-right: 0.25em;color: #696969;}#sk-b84ac615-f844-4795-b399-46686b96dec7 label.sk-toggleable__label-arrow:hover:before {color: black;}#sk-b84ac615-f844-4795-b399-46686b96dec7 div.sk-estimator:hover label.sk-toggleable__label-arrow:before {color: black;}#sk-b84ac615-f844-4795-b399-46686b96dec7 div.sk-toggleable__content {max-height: 0;max-width: 0;overflow: hidden;text-align: left;background-color: #f0f8ff;}#sk-b84ac615-f844-4795-b399-46686b96dec7 div.sk-toggleable__content pre {margin: 0.2em;color: black;border-radius: 0.25em;background-color: #f0f8ff;}#sk-b84ac615-f844-4795-b399-46686b96dec7 input.sk-toggleable__control:checked~div.sk-toggleable__content {max-height: 200px;max-width: 100%;overflow: auto;}#sk-b84ac615-f844-4795-b399-46686b96dec7 input.sk-toggleable__control:checked~label.sk-toggleable__label-arrow:before {content: \"▾\";}#sk-b84ac615-f844-4795-b399-46686b96dec7 div.sk-estimator input.sk-toggleable__control:checked~label.sk-toggleable__label {background-color: #d4ebff;}#sk-b84ac615-f844-4795-b399-46686b96dec7 div.sk-label input.sk-toggleable__control:checked~label.sk-toggleable__label {background-color: #d4ebff;}#sk-b84ac615-f844-4795-b399-46686b96dec7 input.sk-hidden--visually {border: 0;clip: rect(1px 1px 1px 1px);clip: rect(1px, 1px, 1px, 1px);height: 1px;margin: -1px;overflow: hidden;padding: 0;position: absolute;width: 1px;}#sk-b84ac615-f844-4795-b399-46686b96dec7 div.sk-estimator {font-family: monospace;background-color: #f0f8ff;border: 1px dotted black;border-radius: 0.25em;box-sizing: border-box;margin-bottom: 0.5em;}#sk-b84ac615-f844-4795-b399-46686b96dec7 div.sk-estimator:hover {background-color: #d4ebff;}#sk-b84ac615-f844-4795-b399-46686b96dec7 div.sk-parallel-item::after {content: \"\";width: 100%;border-bottom: 1px solid gray;flex-grow: 1;}#sk-b84ac615-f844-4795-b399-46686b96dec7 div.sk-label:hover label.sk-toggleable__label {background-color: #d4ebff;}#sk-b84ac615-f844-4795-b399-46686b96dec7 div.sk-serial::before {content: \"\";position: absolute;border-left: 1px solid gray;box-sizing: border-box;top: 2em;bottom: 0;left: 50%;}#sk-b84ac615-f844-4795-b399-46686b96dec7 div.sk-serial {display: flex;flex-direction: column;align-items: center;background-color: white;padding-right: 0.2em;padding-left: 0.2em;}#sk-b84ac615-f844-4795-b399-46686b96dec7 div.sk-item {z-index: 1;}#sk-b84ac615-f844-4795-b399-46686b96dec7 div.sk-parallel {display: flex;align-items: stretch;justify-content: center;background-color: white;}#sk-b84ac615-f844-4795-b399-46686b96dec7 div.sk-parallel::before {content: \"\";position: absolute;border-left: 1px solid gray;box-sizing: border-box;top: 2em;bottom: 0;left: 50%;}#sk-b84ac615-f844-4795-b399-46686b96dec7 div.sk-parallel-item {display: flex;flex-direction: column;position: relative;background-color: white;}#sk-b84ac615-f844-4795-b399-46686b96dec7 div.sk-parallel-item:first-child::after {align-self: flex-end;width: 50%;}#sk-b84ac615-f844-4795-b399-46686b96dec7 div.sk-parallel-item:last-child::after {align-self: flex-start;width: 50%;}#sk-b84ac615-f844-4795-b399-46686b96dec7 div.sk-parallel-item:only-child::after {width: 0;}#sk-b84ac615-f844-4795-b399-46686b96dec7 div.sk-dashed-wrapped {border: 1px dashed gray;margin: 0 0.4em 0.5em 0.4em;box-sizing: border-box;padding-bottom: 0.4em;background-color: white;position: relative;}#sk-b84ac615-f844-4795-b399-46686b96dec7 div.sk-label label {font-family: monospace;font-weight: bold;background-color: white;display: inline-block;line-height: 1.2em;}#sk-b84ac615-f844-4795-b399-46686b96dec7 div.sk-label-container {position: relative;z-index: 2;text-align: center;}#sk-b84ac615-f844-4795-b399-46686b96dec7 div.sk-container {/* jupyter's `normalize.less` sets `[hidden] { display: none; }` but bootstrap.min.css set `[hidden] { display: none !important; }` so we also need the `!important` here to be able to override the default hidden behavior on the sphinx rendered scikit-learn.org. See: https://github.com/scikit-learn/scikit-learn/issues/21755 */display: inline-block !important;position: relative;}#sk-b84ac615-f844-4795-b399-46686b96dec7 div.sk-text-repr-fallback {display: none;}</style><div id=\"sk-b84ac615-f844-4795-b399-46686b96dec7\" class=\"sk-top-container\"><div class=\"sk-text-repr-fallback\"><pre>Pipeline(steps=[(&#x27;standardscaler&#x27;, StandardScaler()),\n",
       "                (&#x27;pca&#x27;, PCA(n_components=2)),\n",
       "                (&#x27;logisticregression&#x27;, LogisticRegression(random_state=1))])</pre><b>Please rerun this cell to show the HTML repr or trust the notebook.</b></div><div class=\"sk-container\" hidden><div class=\"sk-item sk-dashed-wrapped\"><div class=\"sk-label-container\"><div class=\"sk-label sk-toggleable\"><input class=\"sk-toggleable__control sk-hidden--visually\" id=\"1a617cf5-e2f2-4418-afe3-fe045647773c\" type=\"checkbox\" ><label for=\"1a617cf5-e2f2-4418-afe3-fe045647773c\" class=\"sk-toggleable__label sk-toggleable__label-arrow\">Pipeline</label><div class=\"sk-toggleable__content\"><pre>Pipeline(steps=[(&#x27;standardscaler&#x27;, StandardScaler()),\n",
       "                (&#x27;pca&#x27;, PCA(n_components=2)),\n",
       "                (&#x27;logisticregression&#x27;, LogisticRegression(random_state=1))])</pre></div></div></div><div class=\"sk-serial\"><div class=\"sk-item\"><div class=\"sk-estimator sk-toggleable\"><input class=\"sk-toggleable__control sk-hidden--visually\" id=\"d8a60859-a9ae-4512-9d8a-3d1d070de86d\" type=\"checkbox\" ><label for=\"d8a60859-a9ae-4512-9d8a-3d1d070de86d\" class=\"sk-toggleable__label sk-toggleable__label-arrow\">StandardScaler</label><div class=\"sk-toggleable__content\"><pre>StandardScaler()</pre></div></div></div><div class=\"sk-item\"><div class=\"sk-estimator sk-toggleable\"><input class=\"sk-toggleable__control sk-hidden--visually\" id=\"c7d2f9fe-841c-4975-9c43-6592d6f93600\" type=\"checkbox\" ><label for=\"c7d2f9fe-841c-4975-9c43-6592d6f93600\" class=\"sk-toggleable__label sk-toggleable__label-arrow\">PCA</label><div class=\"sk-toggleable__content\"><pre>PCA(n_components=2)</pre></div></div></div><div class=\"sk-item\"><div class=\"sk-estimator sk-toggleable\"><input class=\"sk-toggleable__control sk-hidden--visually\" id=\"7e841862-cb8f-40e6-a07b-35aef9f98f72\" type=\"checkbox\" ><label for=\"7e841862-cb8f-40e6-a07b-35aef9f98f72\" class=\"sk-toggleable__label sk-toggleable__label-arrow\">LogisticRegression</label><div class=\"sk-toggleable__content\"><pre>LogisticRegression(random_state=1)</pre></div></div></div></div></div></div></div>"
      ],
      "text/plain": [
       "Pipeline(steps=[('standardscaler', StandardScaler()),\n",
       "                ('pca', PCA(n_components=2)),\n",
       "                ('logisticregression', LogisticRegression(random_state=1))])"
      ]
     },
     "execution_count": 39,
     "metadata": {},
     "output_type": "execute_result"
    }
   ],
   "source": [
    "# 추정기 객체를 주피터 노트북에서 시각화\n",
    "\n",
    "from sklearn import set_config\n",
    "\n",
    "set_config(display='diagram')\n",
    "pipe_lr"
   ]
  },
  {
   "cell_type": "markdown",
   "id": "e043b84e",
   "metadata": {},
   "source": [
    "## 6.2 k-겹 교차 검증을 사용한 모델 성능 평가"
   ]
  },
  {
   "attachments": {},
   "cell_type": "markdown",
   "id": "f17aad59",
   "metadata": {},
   "source": [
    "### 6.2.1 홀드아웃 방법\n",
    "\n",
    "- 홀드아웃 방법: 초기 데이터셋을 훈련 데이터셋과 테스트 데이터셋으로 나누는 것\n",
    "- 모델 선택 (model selection): 최적의 파라미터 혹은 하이퍼파라미터를 선택하는 것\n",
    "\n",
    "홀드아웃 교차 검증\n",
    "- 초기 데이터를 훈련 데이터, 검증 데이터, 테스트 데이터의 세 개 부분으로 나눈다.\n",
    "- 검증 데이터셋을 사용하여 반복적으로 다른 하이퍼파라미터 값에서 모델을 훈련한 후 성능을 평가하는 방식으로 최적의 하이퍼파라미터 값을 찾는다."
   ]
  },
  {
   "cell_type": "markdown",
   "id": "5ba5cbb9",
   "metadata": {},
   "source": [
    "### 6.2.2 k-겹 교차 검증\n",
    "\n",
    "- 중복을 허용하지 않고 훈련 데이터셋을 k개의 fold로 랜덤하게 나눈다.\n",
    "- (k - 1)개의 fold로 모델을 훈련하고 나머지 하나의 fold로 성능을 평가한다.\n",
    "- 이런 과정을 k번 반복하여 k개의 모델과 성능 추정을 얻는다. \n",
    "- 그다음 서로 다른 독립적인 fold에서 얻은 성능 추정을 기반으로 모델의 평균 성능을 계산한다.\n",
    "- 만족스러운 하이퍼파라미터 값을 찾은 후에는 전체 훈련 데이터셋을 사용하여 모델을 다시 훈련한다.\n",
    "- 그다음 독립적인 테스트 데이터셋을 사용하여 최종 성능 추정을 한다.\n",
    "\n",
    "- k-겹 교차 검증은 중복을 허용하지 않는 리샘플링 기법 - 샘플이 독립적이고 공분산이 0이다.\n",
    "- k-겹 교차 검증 방식은 홀드아웃 방식에 비해 훈련 데이터셋의 분할에 덜 민감한 성능 추정값을 얻을 수 있으며, 분산이 낮다."
   ]
  },
  {
   "cell_type": "markdown",
   "id": "a7f6c5e9",
   "metadata": {},
   "source": [
    "#### Note) LOOVC 방법 (Leave-One-Out Cross-Validation)\n",
    "\n",
    "- 폴드 개수가 훈련 샘플 개수와 같다. (k = n)\n",
    "- 즉, 하나의 훈련 샘플이 각 반복에서 테스트 데이터로 사용된다. \n",
    "\n",
    "- 아주 작은 데이터셋을 사용할 때 권장되는 방법"
   ]
  },
  {
   "cell_type": "code",
   "execution_count": 93,
   "id": "0afa9a87",
   "metadata": {},
   "outputs": [
    {
     "name": "stdout",
     "output_type": "stream",
     "text": [
      "폴드:  1, 클래스 분포: [256 153], 정확도: 0.935\n",
      "폴드:  2, 클래스 분포: [256 153], 정확도: 0.935\n",
      "폴드:  3, 클래스 분포: [256 153], 정확도: 0.957\n",
      "폴드:  4, 클래스 분포: [256 153], 정확도: 0.957\n",
      "폴드:  5, 클래스 분포: [256 153], 정확도: 0.935\n",
      "폴드:  6, 클래스 분포: [257 153], 정확도: 0.956\n",
      "폴드:  7, 클래스 분포: [257 153], 정확도: 0.978\n",
      "폴드:  8, 클래스 분포: [257 153], 정확도: 0.933\n",
      "폴드:  9, 클래스 분포: [257 153], 정확도: 0.956\n",
      "폴드: 10, 클래스 분포: [257 153], 정확도: 0.956\n"
     ]
    }
   ],
   "source": [
    "import numpy as np\n",
    "from sklearn.model_selection import StratifiedKFold\n",
    "\n",
    "kfold = StratifiedKFold(n_splits=10).split(X_train, y_train) # 계층적 교차 검증은 각 폴드에서 클래스 비율이 전체 훈련 데이터셋에 있는 클래스 비율과 동일하도록 유지\n",
    "scores = []\n",
    "for k, (train, test) in enumerate(kfold):\n",
    "    pipe_lr.fit(X_train[train], y_train[train])\n",
    "    score = pipe_lr.score(X_train[test], y_train[test])\n",
    "    scores.append(score)\n",
    "    print('폴드: %2d, 클래스 분포: %s, 정확도: %.3f' % (k+1, np.bincount(y_train[train]), score))\n",
    "\n",
    "# bincount() : 0부터 가장 큰 값까지 각각의 발생 빈도수를 계산"
   ]
  },
  {
   "cell_type": "code",
   "execution_count": 92,
   "id": "8e9638b5",
   "metadata": {},
   "outputs": [
    {
     "name": "stdout",
     "output_type": "stream",
     "text": [
      "CV 정확도: 0.950 +/- 0.014\n"
     ]
    }
   ],
   "source": [
    "print('CV 정확도: %.3f +/- %.3f' %(np.mean(scores), np.std(scores)))"
   ]
  },
  {
   "cell_type": "code",
   "execution_count": 97,
   "id": "fa812158",
   "metadata": {},
   "outputs": [
    {
     "name": "stdout",
     "output_type": "stream",
     "text": [
      "CV 정확도 점수: [0.93478261 0.93478261 0.95652174 0.95652174 0.93478261 0.95555556\n",
      " 0.97777778 0.93333333 0.95555556 0.95555556]\n"
     ]
    }
   ],
   "source": [
    "# k-겹 교차 검증\n",
    "\"\"\"\n",
    "cross_val_score 함수가 검증에 사용하는 기본 측정 지표는 회귀일 때는 R2, 분류일 때는 정확도\n",
    "\"\"\"\n",
    "\n",
    "from sklearn.model_selection import cross_val_score\n",
    "\n",
    "scores = cross_val_score(estimator=pipe_lr, X=X_train, y=y_train, cv=10, n_jobs=1) \n",
    "\n",
    "# cv : 교차 검증 폴드 수\n",
    "# n_jobs : 사용할 cpu 코어 수를 지정\n",
    "\n",
    "print('CV 정확도 점수: %s' % scores)"
   ]
  },
  {
   "cell_type": "code",
   "execution_count": 96,
   "id": "3bae1001",
   "metadata": {},
   "outputs": [
    {
     "name": "stdout",
     "output_type": "stream",
     "text": [
      "CV 정확도: 0.950 +/- 0.014\n"
     ]
    }
   ],
   "source": [
    "print('CV 정확도: %.3f +/- %.3f' % (np.mean(scores), np.std(scores)))"
   ]
  },
  {
   "cell_type": "code",
   "execution_count": 98,
   "id": "e7cfa589",
   "metadata": {},
   "outputs": [
    {
     "name": "stdout",
     "output_type": "stream",
     "text": [
      "CV 정확도 점수: [0.93478261 0.93478261 0.95652174 0.95652174 0.93478261 0.95555556\n",
      " 0.97777778 0.93333333 0.95555556 0.95555556]\n"
     ]
    }
   ],
   "source": [
    "# cross_validate 함수는 scoring 하이퍼파라미터에 여러 측정 지표를 설정하여 교차 검증에 사용할 수 있다.\n",
    "\n",
    "from sklearn.model_selection import cross_validate\n",
    "\n",
    "scores = cross_validate(estimator=pipe_lr, X=X_train, y=y_train, scoring=['accuracy'], cv=10, n_jobs=1)\n",
    "print('CV 정확도 점수: %s' % scores['test_accuracy'])"
   ]
  },
  {
   "cell_type": "code",
   "execution_count": 101,
   "id": "9d0f1a58",
   "metadata": {},
   "outputs": [
    {
     "name": "stdout",
     "output_type": "stream",
     "text": [
      "CV 정확도: 0.950 +/- 0.014\n"
     ]
    }
   ],
   "source": [
    "print('CV 정확도: %.3f +/- %.3f' % (np.mean(scores['test_accuracy']), np.std(scores['test_accuracy'])))"
   ]
  },
  {
   "cell_type": "code",
   "execution_count": 106,
   "id": "9cff738a",
   "metadata": {},
   "outputs": [
    {
     "data": {
      "text/plain": [
       "array([0, 0, 0, 0, 0, 0, 0, 1, 1, 1, 0, 1, 0, 1, 0, 0, 1, 1, 1, 1, 1, 0,\n",
       "       0, 0, 1, 1, 0, 0, 1, 1, 0, 0, 0, 1, 1, 0, 0, 1, 0, 0, 1, 0, 1, 0,\n",
       "       0, 0, 0, 0, 0, 1, 0, 1, 0, 1, 1, 0, 0, 1, 0, 0, 0, 1, 0, 0, 1, 1,\n",
       "       0, 0, 1, 0, 0, 0, 0, 1, 1, 0, 0, 0, 0, 1, 0, 1, 0, 1, 0, 0, 1, 0,\n",
       "       0, 0, 0, 1, 1, 0, 0, 0, 1, 0, 0, 0, 1, 0, 0, 1, 0, 0, 1, 0, 1, 0,\n",
       "       0, 1, 0, 0, 1, 0, 0, 1, 0, 1, 0, 0, 0, 0, 1, 0, 1, 1, 0, 1, 0, 1,\n",
       "       0, 0, 0, 0, 0, 1, 1, 0, 0, 0, 1, 0, 0, 0, 1, 0, 0, 1, 0, 1, 0, 0,\n",
       "       0, 0, 0, 1, 0, 0, 1, 0, 1, 0, 0, 0, 0, 1, 0, 1, 0, 1, 0, 0, 1, 1,\n",
       "       0, 0, 0, 1, 1, 1, 0, 0, 0, 0, 1, 0, 0, 0, 1, 0, 1, 0, 0, 0, 0, 0,\n",
       "       0, 0, 0, 1, 1, 0, 0, 0, 1, 0, 1, 1, 0, 0, 1, 0, 0, 0, 0, 0, 1, 1,\n",
       "       1, 1, 0, 0, 1, 0, 1, 0, 1, 0, 0, 0, 1, 1, 0, 0, 0, 1, 1, 0, 0, 1,\n",
       "       0, 0, 1, 1, 0, 0, 1, 0, 0, 0, 0, 0, 0, 0, 0, 0, 0, 0, 1, 0, 1, 1,\n",
       "       0, 1, 0, 1, 1, 0, 0, 0, 0, 0, 0, 0, 0, 0, 1, 0, 0, 1, 1, 1, 1, 0,\n",
       "       0, 0, 1, 0, 0, 0, 1, 0, 0, 1, 0, 1, 1, 1, 0, 0, 1, 0, 0, 0, 0, 0,\n",
       "       1, 1, 0, 1, 1, 1, 0, 0, 0, 0, 0, 1, 0, 1, 0, 1, 1, 1, 0, 0, 0, 1,\n",
       "       0, 0, 0, 1, 0, 1, 0, 0, 0, 0, 1, 1, 0, 0, 0, 1, 1, 0, 1, 1, 0, 0,\n",
       "       1, 1, 1, 1, 1, 0, 0, 1, 0, 1, 0, 0, 1, 0, 0, 1, 1, 0, 0, 0, 0, 1,\n",
       "       0, 0, 1, 1, 0, 0, 0, 0, 0, 0, 0, 0, 0, 0, 1, 0, 0, 0, 0, 1, 0, 1,\n",
       "       0, 1, 0, 0, 0, 1, 1, 1, 0, 1, 1, 0, 1, 0, 1, 0, 0, 0, 0, 0, 0, 1,\n",
       "       1, 1, 0, 1, 0, 0, 0, 0, 0, 1, 1, 0, 1, 1, 1, 0, 0, 0, 0, 0, 1, 0,\n",
       "       1, 0, 0, 1, 0, 0, 0, 0, 0, 0, 0, 1, 1, 1, 0])"
      ]
     },
     "execution_count": 106,
     "metadata": {},
     "output_type": "execute_result"
    }
   ],
   "source": [
    "# cross_val_predict 함수는 훈련 데이터셋의 각 샘플이 테스트 fold가 되었을 때 만들어진 예측을 반환\n",
    "\n",
    "from sklearn.model_selection import cross_val_predict\n",
    "\n",
    "preds = cross_val_predict(estimator=pipe_lr, X=X_train, y=y_train, cv=10)\n",
    "preds"
   ]
  },
  {
   "cell_type": "markdown",
   "id": "ca52cfe8",
   "metadata": {},
   "source": [
    "## 6.3 학습 곡선과 검증 곡선을 사용한 알고리즘 디버깅"
   ]
  },
  {
   "cell_type": "markdown",
   "id": "f8783c9d",
   "metadata": {},
   "source": [
    "### 6.3.1 학습 곡선으로 편향과 분산 문제 분석"
   ]
  },
  {
   "cell_type": "code",
   "execution_count": 107,
   "id": "0c7a2210",
   "metadata": {},
   "outputs": [
    {
     "data": {
      "image/png": "[encoded data removed]",
      "text/plain": [
       "<Figure size 432x288 with 1 Axes>"
      ]
     },
     "metadata": {
      "needs_background": "light"
     },
     "output_type": "display_data"
    }
   ],
   "source": [
    "import matplotlib.pyplot as plt\n",
    "from sklearn.model_selection import learning_curve\n",
    "\n",
    "pipe_lr = make_pipeline(StandardScaler(),\n",
    "                        LogisticRegression(penalty='l2', random_state=1))\n",
    "\n",
    "# trian_sizes : 학습 곡선을 생성하는 데 사용할 훈련 샘플의 개수나 비율을 지정할 수 있다. \n",
    "# linspace(start, stop, num) : start 와 stop 사이 범위에서 num 개수만큼 일정한 간격으로 요소 생성\n",
    "\n",
    "train_sizes, train_scores, test_scores = learning_curve(estimator=pipe_lr, \n",
    "                                                        X=X_train, \n",
    "                                                        y=y_train,\n",
    "                                                        train_sizes=np.linspace(0.1, 1.0, 10),\n",
    "                                                        cv=10,\n",
    "                                                        n_jobs=1)\n",
    "train_mean = np.mean(train_scores, axis=1)\n",
    "train_std = np.std(train_scores, axis=1)\n",
    "test_mean = np.mean(test_scores, axis=1)\n",
    "test_std = np.std(test_scores, axis=1)\n",
    "\n",
    "plt.plot(train_sizes, \n",
    "         train_mean, \n",
    "         color='blue', \n",
    "         marker='o', \n",
    "         markersize=5, \n",
    "         label='Training accuracy')\n",
    "\n",
    "\n",
    "# fill_between() : 그래프의 특정 영역을 색상으로 채우는 함수 -> 두 수평 방향의 곡선 사이를 채운다.\n",
    "plt.fill_between(train_sizes, \n",
    "                 train_mean + train_std,\n",
    "                 train_mean - train_std,\n",
    "                 alpha=0.15, color='blue')\n",
    "\n",
    "plt.plot(train_sizes, test_mean, color='green', linestyle='--', \n",
    "         marker='s', markersize=5, label='Validation accuracy')\n",
    "\n",
    "plt.fill_between(train_sizes, \n",
    "                 test_mean + test_std,\n",
    "                 test_mean - test_std,\n",
    "                 alpha=0.15, color='green')\n",
    "\n",
    "plt.grid()\n",
    "plt.xlabel('Number of training examples')\n",
    "plt.ylabel('Accuracy')\n",
    "plt.legend(loc='lower right')\n",
    "plt.ylim([0.8, 1.03])\n",
    "plt.tight_layout()\n",
    "plt.show()"
   ]
  },
  {
   "cell_type": "code",
   "execution_count": 118,
   "id": "b1c539f2",
   "metadata": {},
   "outputs": [
    {
     "data": {
      "text/plain": [
       "array([0.        , 0.        , 0.00655738, 0.00601102, 0.00882353,\n",
       "       0.00658143, 0.00625474, 0.00428135, 0.00292672, 0.00239559])"
      ]
     },
     "execution_count": 118,
     "metadata": {},
     "output_type": "execute_result"
    }
   ],
   "source": [
    "(train_mean + train_std) - (train_mean - train_std)"
   ]
  },
  {
   "cell_type": "code",
   "execution_count": 119,
   "id": "f1914171",
   "metadata": {},
   "outputs": [
    {
     "data": {
      "text/plain": [
       "array([0.08294426, 0.04613706, 0.05134391, 0.02792254, 0.02908261,\n",
       "       0.01997665, 0.01715486, 0.02780931, 0.03290192, 0.04126735])"
      ]
     },
     "execution_count": 119,
     "metadata": {},
     "output_type": "execute_result"
    }
   ],
   "source": [
    "(test_mean + test_std) - (test_mean - test_std)"
   ]
  },
  {
   "cell_type": "code",
   "execution_count": null,
   "id": "b957f98c",
   "metadata": {},
   "outputs": [],
   "source": []
  }
 ],
 "metadata": {
  "kernelspec": {
   "display_name": "Python 3 (ipykernel)",
   "language": "python",
   "name": "python3"
  },
  "language_info": {
   "codemirror_mode": {
    "name": "ipython",
    "version": 3
   },
   "file_extension": ".py",
   "mimetype": "text/x-python",
   "name": "python",
   "nbconvert_exporter": "python",
   "pygments_lexer": "ipython3",
   "version": "3.9.12"
  }
 },
 "nbformat": 4,
 "nbformat_minor": 5
}
